{
 "cells": [
  {
   "cell_type": "markdown",
   "metadata": {},
   "source": [
    "# Credit Scoring  \n",
    "\n",
    "\n",
    "## Assess potential loan customer's creditworthiness\n",
    "\n",
    "## Background\n",
    "\n",
    "A fintech company has collected historical data of their loan customers.\n",
    "Machine learning based credit scoring is required to categorize the \"good\" customers from the \"bad\".\n",
    "\n",
    "\n",
    "## Columns description\n",
    "\n",
    "- Feature_X: feature of a customer, represented in numerical format.\n",
    "\n",
    "\n",
    "    - E.g: loan size, job_code. \n",
    "    - Data dictionary or definition of the features are available.\n",
    "\n",
    "        - Target: good customer is 0 | bad customer = 1\n",
    "\n"
   ]
  },
  {
   "cell_type": "code",
   "execution_count": 1,
   "metadata": {},
   "outputs": [],
   "source": [
    "import pandas as pd\n",
    "import numpy as np\n",
    "import seaborn as sns\n",
    "import matplotlib.pyplot as plt\n",
    "\n",
    "\n",
    "%matplotlib inline\n",
    "\n",
    "from sklearn import set_config\n",
    "set_config(print_changed_only=False)\n",
    "\n",
    "import warnings\n",
    "warnings.filterwarnings('ignore')"
   ]
  },
  {
   "cell_type": "code",
   "execution_count": 2,
   "metadata": {},
   "outputs": [],
   "source": [
    "df = pd.read_csv('InputData.csv')\n",
    "df.drop(columns=['Unnamed: 0'],inplace=True)"
   ]
  },
  {
   "cell_type": "markdown",
   "metadata": {},
   "source": [
    "### Checking Missing Values (NaN)"
   ]
  },
  {
   "cell_type": "code",
   "execution_count": 3,
   "metadata": {},
   "outputs": [
    {
     "data": {
      "text/plain": [
       "feature_1       0\n",
       "feature_2       0\n",
       "feature_3       0\n",
       "feature_4       0\n",
       "feature_5       0\n",
       "               ..\n",
       "feature_1042    0\n",
       "feature_1043    2\n",
       "feature_1044    2\n",
       "feature_1045    2\n",
       "target          0\n",
       "Length: 1046, dtype: int64"
      ]
     },
     "execution_count": 3,
     "metadata": {},
     "output_type": "execute_result"
    }
   ],
   "source": [
    "df.isna().sum()"
   ]
  },
  {
   "cell_type": "markdown",
   "metadata": {},
   "source": [
    "#### Since there is no further informations about these missing values, so these values would be dropped, otherwise we can fill with certain value or with either, mean, median, or modes. \n",
    "\n",
    "Similarly, bfill, backfill and pad methods can also be used.\n",
    "\n"
   ]
  },
  {
   "cell_type": "code",
   "execution_count": 4,
   "metadata": {},
   "outputs": [
    {
     "data": {
      "text/plain": [
       "feature_1       0\n",
       "feature_2       0\n",
       "feature_3       0\n",
       "feature_4       0\n",
       "feature_5       0\n",
       "               ..\n",
       "feature_1042    0\n",
       "feature_1043    0\n",
       "feature_1044    0\n",
       "feature_1045    0\n",
       "target          0\n",
       "Length: 1046, dtype: int64"
      ]
     },
     "execution_count": 4,
     "metadata": {},
     "output_type": "execute_result"
    }
   ],
   "source": [
    "df.dropna(inplace=True)\n",
    "\n",
    "#df.fillna(method ='mean', inplace = True) => For Example\n",
    "\n",
    "df.isna().sum()"
   ]
  },
  {
   "cell_type": "markdown",
   "metadata": {},
   "source": [
    "# Checking target columns"
   ]
  },
  {
   "cell_type": "code",
   "execution_count": 5,
   "metadata": {},
   "outputs": [
    {
     "name": "stdout",
     "output_type": "stream",
     "text": [
      "col_0       count\n",
      "target           \n",
      "0       96.296296\n",
      "1        3.703704\n"
     ]
    },
    {
     "data": {
      "image/png": "[encoded data removed]",
      "text/plain": [
       "<Figure size 432x288 with 1 Axes>"
      ]
     },
     "metadata": {
      "needs_background": "light"
     },
     "output_type": "display_data"
    }
   ],
   "source": [
    "df[\"target\"].value_counts()\n",
    "\n",
    "print(pd.crosstab(index=df['target'],columns='count',normalize=True)*100)\n",
    "\n",
    "ax = sns.countplot(x=df['target'], data=df, palette='viridis')\n",
    "\n",
    "plt.show()"
   ]
  },
  {
   "cell_type": "markdown",
   "metadata": {},
   "source": [
    "### 96,3% customers are good (0)\n",
    "### 3.7% customers are bad (1)\n",
    "\n",
    "##### The target column is imbalanced, so it is needed to be handled properly. In this case, SMOTE will be applied"
   ]
  },
  {
   "cell_type": "markdown",
   "metadata": {},
   "source": [
    "## SPLITING DATA"
   ]
  },
  {
   "cell_type": "code",
   "execution_count": 6,
   "metadata": {},
   "outputs": [],
   "source": [
    "from sklearn.model_selection import train_test_split\n",
    "from sklearn.metrics import classification_report, confusion_matrix, f1_score,roc_auc_score, recall_score, precision_score, accuracy_score\n",
    "\n",
    "X = df.drop(columns=['target'])\n",
    "y = df['target']\n",
    "\n",
    "X_train, X_test, y_train, y_test = train_test_split(X, y, stratify = y, train_size = .8, random_state=42)"
   ]
  },
  {
   "cell_type": "markdown",
   "metadata": {},
   "source": [
    "### Checking shape of X_train and X_test "
   ]
  },
  {
   "cell_type": "code",
   "execution_count": 7,
   "metadata": {},
   "outputs": [
    {
     "data": {
      "text/plain": [
       "(237, 1045)"
      ]
     },
     "execution_count": 7,
     "metadata": {},
     "output_type": "execute_result"
    }
   ],
   "source": [
    "X_train.shape"
   ]
  },
  {
   "cell_type": "code",
   "execution_count": 8,
   "metadata": {},
   "outputs": [
    {
     "data": {
      "text/plain": [
       "(60, 1045)"
      ]
     },
     "execution_count": 8,
     "metadata": {},
     "output_type": "execute_result"
    }
   ],
   "source": [
    "X_test.shape"
   ]
  },
  {
   "cell_type": "markdown",
   "metadata": {},
   "source": [
    "# Target Engineering\n",
    "\n",
    "## Handling Imbalanced Data\n",
    "\n",
    "### SMOTE: Synthetic Minority Oversampling Technique\n",
    "\n",
    "SMOTE is an oversampling technique where the synthetic samples are generated for the minority class. This algorithm helps to overcome the overfitting problem posed by random oversampling. It focuses on the feature space to generate new instances with the help of interpolation between the positive instances that lie together."
   ]
  },
  {
   "cell_type": "code",
   "execution_count": 9,
   "metadata": {},
   "outputs": [],
   "source": [
    "import imblearn\n",
    "from imblearn.over_sampling import SMOTE\n",
    "sm = SMOTE(random_state=42)\n",
    "\n",
    "X_train_sm, y_train_sm = sm.fit_sample(X_train, y_train)"
   ]
  },
  {
   "cell_type": "code",
   "execution_count": 10,
   "metadata": {},
   "outputs": [
    {
     "data": {
      "text/plain": [
       "(456, 1045)"
      ]
     },
     "execution_count": 10,
     "metadata": {},
     "output_type": "execute_result"
    }
   ],
   "source": [
    "X_train_sm.shape"
   ]
  },
  {
   "cell_type": "code",
   "execution_count": 11,
   "metadata": {},
   "outputs": [
    {
     "data": {
      "text/plain": [
       "(456,)"
      ]
     },
     "execution_count": 11,
     "metadata": {},
     "output_type": "execute_result"
    }
   ],
   "source": [
    "y_train_sm.shape"
   ]
  },
  {
   "cell_type": "markdown",
   "metadata": {},
   "source": [
    "# FEATURE SELECTION - **DROPPING CONSTANT FEATURES**\n",
    "\n",
    "\n",
    "### Since there are over 1000 columns, certain method needs to be applied. In this case **Variance Threshold**  is used.\n",
    "\n",
    "\n",
    "### Feature selector that removes all low-variance features.\n",
    "\n",
    "- This feature selection algorithm looks only at the features (X), not the desired outputs (y), and can thus be used for unsupervised learning.\n",
    "\n",
    "\n",
    "- Drop all columns that are either constant, or close to constant for numerics, and columns that have only one value for factors or ordered columns.\n",
    "\n",
    "\n",
    "- The threshold number is 0"
   ]
  },
  {
   "cell_type": "code",
   "execution_count": 12,
   "metadata": {},
   "outputs": [
    {
     "data": {
      "text/plain": [
       "VarianceThreshold(threshold=0.0)"
      ]
     },
     "execution_count": 12,
     "metadata": {},
     "output_type": "execute_result"
    }
   ],
   "source": [
    "from sklearn.feature_selection import VarianceThreshold\n",
    "\n",
    "constant_filter = VarianceThreshold(threshold=0.0)\n",
    "constant_filter.fit(X_train_sm)"
   ]
  },
  {
   "cell_type": "markdown",
   "metadata": {},
   "source": [
    "**Features that has 0 variances will be eliminated**"
   ]
  },
  {
   "cell_type": "code",
   "execution_count": 13,
   "metadata": {},
   "outputs": [
    {
     "name": "stdout",
     "output_type": "stream",
     "text": [
      "SUM of constant filter: 837\n"
     ]
    }
   ],
   "source": [
    "SUM_constant_filter=len(X_train_sm.columns[constant_filter.get_support()])\n",
    "\n",
    "print(f'SUM of constant filter: {SUM_constant_filter}')"
   ]
  },
  {
   "cell_type": "markdown",
   "metadata": {},
   "source": [
    "### Showing which are those constant features"
   ]
  },
  {
   "cell_type": "code",
   "execution_count": 14,
   "metadata": {},
   "outputs": [
    {
     "name": "stdout",
     "output_type": "stream",
     "text": [
      "Constant Features SUM: 208\n",
      "\n",
      "\n",
      "feature_7\n",
      "feature_101\n",
      "feature_119\n",
      "feature_120\n",
      "feature_126\n",
      "feature_128\n",
      "feature_146\n",
      "feature_171\n",
      "feature_217\n",
      "feature_222\n",
      "feature_223\n",
      "feature_224\n",
      "feature_225\n",
      "feature_235\n",
      "feature_236\n",
      "feature_237\n",
      "feature_247\n",
      "feature_250\n",
      "feature_251\n",
      "feature_253\n",
      "feature_261\n",
      "feature_262\n",
      "feature_263\n",
      "feature_264\n",
      "feature_266\n",
      "feature_270\n",
      "feature_271\n",
      "feature_272\n",
      "feature_278\n",
      "feature_279\n",
      "feature_280\n",
      "feature_281\n",
      "feature_282\n",
      "feature_283\n",
      "feature_288\n",
      "feature_311\n",
      "feature_312\n",
      "feature_313\n",
      "feature_314\n",
      "feature_315\n",
      "feature_316\n",
      "feature_317\n",
      "feature_318\n",
      "feature_321\n",
      "feature_322\n",
      "feature_323\n",
      "feature_324\n",
      "feature_327\n",
      "feature_328\n",
      "feature_329\n",
      "feature_330\n",
      "feature_349\n",
      "feature_350\n",
      "feature_351\n",
      "feature_352\n",
      "feature_355\n",
      "feature_356\n",
      "feature_357\n",
      "feature_358\n",
      "feature_359\n",
      "feature_360\n",
      "feature_361\n",
      "feature_362\n",
      "feature_363\n",
      "feature_364\n",
      "feature_375\n",
      "feature_376\n",
      "feature_377\n",
      "feature_378\n",
      "feature_381\n",
      "feature_382\n",
      "feature_383\n",
      "feature_392\n",
      "feature_393\n",
      "feature_394\n",
      "feature_395\n",
      "feature_398\n",
      "feature_399\n",
      "feature_412\n",
      "feature_413\n",
      "feature_416\n",
      "feature_417\n",
      "feature_418\n",
      "feature_419\n",
      "feature_420\n",
      "feature_421\n",
      "feature_422\n",
      "feature_423\n",
      "feature_424\n",
      "feature_425\n",
      "feature_426\n",
      "feature_439\n",
      "feature_440\n",
      "feature_441\n",
      "feature_442\n",
      "feature_443\n",
      "feature_444\n",
      "feature_445\n",
      "feature_446\n",
      "feature_447\n",
      "feature_448\n",
      "feature_449\n",
      "feature_450\n",
      "feature_457\n",
      "feature_458\n",
      "feature_459\n",
      "feature_460\n",
      "feature_461\n",
      "feature_462\n",
      "feature_469\n",
      "feature_470\n",
      "feature_471\n",
      "feature_472\n",
      "feature_473\n",
      "feature_474\n",
      "feature_480\n",
      "feature_485\n",
      "feature_504\n",
      "feature_505\n",
      "feature_508\n",
      "feature_509\n",
      "feature_514\n",
      "feature_515\n",
      "feature_516\n",
      "feature_517\n",
      "feature_531\n",
      "feature_532\n",
      "feature_555\n",
      "feature_556\n",
      "feature_559\n",
      "feature_560\n",
      "feature_561\n",
      "feature_562\n",
      "feature_579\n",
      "feature_580\n",
      "feature_583\n",
      "feature_584\n",
      "feature_589\n",
      "feature_598\n",
      "feature_599\n",
      "feature_618\n",
      "feature_619\n",
      "feature_622\n",
      "feature_623\n",
      "feature_624\n",
      "feature_625\n",
      "feature_626\n",
      "feature_627\n",
      "feature_648\n",
      "feature_649\n",
      "feature_652\n",
      "feature_653\n",
      "feature_654\n",
      "feature_655\n",
      "feature_666\n",
      "feature_667\n",
      "feature_668\n",
      "feature_669\n",
      "feature_670\n",
      "feature_671\n",
      "feature_681\n",
      "feature_682\n",
      "feature_683\n",
      "feature_684\n",
      "feature_685\n",
      "feature_686\n",
      "feature_708\n",
      "feature_709\n",
      "feature_715\n",
      "feature_717\n",
      "feature_752\n",
      "feature_754\n",
      "feature_798\n",
      "feature_800\n",
      "feature_803\n",
      "feature_804\n",
      "feature_805\n",
      "feature_806\n",
      "feature_817\n",
      "feature_818\n",
      "feature_819\n",
      "feature_824\n",
      "feature_837\n",
      "feature_840\n",
      "feature_841\n",
      "feature_843\n",
      "feature_851\n",
      "feature_852\n",
      "feature_853\n",
      "feature_854\n",
      "feature_856\n",
      "feature_860\n",
      "feature_861\n",
      "feature_862\n",
      "feature_866\n",
      "feature_867\n",
      "feature_868\n",
      "feature_869\n",
      "feature_870\n",
      "feature_871\n",
      "feature_907\n",
      "feature_922\n",
      "feature_924\n",
      "feature_938\n",
      "feature_939\n",
      "feature_940\n",
      "feature_941\n",
      "feature_942\n"
     ]
    }
   ],
   "source": [
    "constant_columns = [column for column in X_train.columns\n",
    "                    if column not in X_train.columns[constant_filter.get_support()]]\n",
    "\n",
    "print(f'Constant Features SUM: {len(constant_columns)}\\n\\n')\n",
    "\n",
    "for column in constant_columns:\n",
    "    print(column)"
   ]
  },
  {
   "cell_type": "code",
   "execution_count": 15,
   "metadata": {},
   "outputs": [
    {
     "name": "stdout",
     "output_type": "stream",
     "text": [
      "(237, 837) (60, 837)\n"
     ]
    }
   ],
   "source": [
    "train_features = constant_filter.transform(X_train)\n",
    "test_features = constant_filter.transform(X_test)\n",
    "\n",
    "print(train_features.shape, test_features.shape)"
   ]
  },
  {
   "cell_type": "markdown",
   "metadata": {},
   "source": [
    "#### Dropping these constant features from X_train"
   ]
  },
  {
   "cell_type": "code",
   "execution_count": 16,
   "metadata": {},
   "outputs": [
    {
     "data": {
      "text/html": [
       "<div>\n",
       "<style scoped>\n",
       "    .dataframe tbody tr th:only-of-type {\n",
       "        vertical-align: middle;\n",
       "    }\n",
       "\n",
       "    .dataframe tbody tr th {\n",
       "        vertical-align: top;\n",
       "    }\n",
       "\n",
       "    .dataframe thead th {\n",
       "        text-align: right;\n",
       "    }\n",
       "</style>\n",
       "<table border=\"1\" class=\"dataframe\">\n",
       "  <thead>\n",
       "    <tr style=\"text-align: right;\">\n",
       "      <th></th>\n",
       "      <th>feature_1</th>\n",
       "      <th>feature_2</th>\n",
       "      <th>feature_3</th>\n",
       "      <th>feature_4</th>\n",
       "      <th>feature_5</th>\n",
       "      <th>feature_6</th>\n",
       "      <th>feature_8</th>\n",
       "      <th>feature_9</th>\n",
       "      <th>feature_10</th>\n",
       "      <th>feature_11</th>\n",
       "      <th>...</th>\n",
       "      <th>feature_1036</th>\n",
       "      <th>feature_1037</th>\n",
       "      <th>feature_1038</th>\n",
       "      <th>feature_1039</th>\n",
       "      <th>feature_1040</th>\n",
       "      <th>feature_1041</th>\n",
       "      <th>feature_1042</th>\n",
       "      <th>feature_1043</th>\n",
       "      <th>feature_1044</th>\n",
       "      <th>feature_1045</th>\n",
       "    </tr>\n",
       "  </thead>\n",
       "  <tbody>\n",
       "    <tr>\n",
       "      <th>0</th>\n",
       "      <td>1.000000e+06</td>\n",
       "      <td>-999.000000</td>\n",
       "      <td>2.100000e+07</td>\n",
       "      <td>3000000.0</td>\n",
       "      <td>28</td>\n",
       "      <td>0</td>\n",
       "      <td>263.000000</td>\n",
       "      <td>89.022731</td>\n",
       "      <td>94.000000</td>\n",
       "      <td>263.000000</td>\n",
       "      <td>...</td>\n",
       "      <td>82.000000</td>\n",
       "      <td>4.000000</td>\n",
       "      <td>0.0</td>\n",
       "      <td>1.000000</td>\n",
       "      <td>86.000000</td>\n",
       "      <td>1</td>\n",
       "      <td>2</td>\n",
       "      <td>4.000000</td>\n",
       "      <td>4.0</td>\n",
       "      <td>4.0</td>\n",
       "    </tr>\n",
       "    <tr>\n",
       "      <th>1</th>\n",
       "      <td>1.500000e+06</td>\n",
       "      <td>-999.000000</td>\n",
       "      <td>4.000000e+06</td>\n",
       "      <td>500000.0</td>\n",
       "      <td>22</td>\n",
       "      <td>0</td>\n",
       "      <td>263.000000</td>\n",
       "      <td>0.719261</td>\n",
       "      <td>1.000000</td>\n",
       "      <td>263.000000</td>\n",
       "      <td>...</td>\n",
       "      <td>31.000000</td>\n",
       "      <td>13.000000</td>\n",
       "      <td>0.0</td>\n",
       "      <td>0.000000</td>\n",
       "      <td>22.000000</td>\n",
       "      <td>0</td>\n",
       "      <td>1</td>\n",
       "      <td>4.000000</td>\n",
       "      <td>0.0</td>\n",
       "      <td>0.0</td>\n",
       "    </tr>\n",
       "    <tr>\n",
       "      <th>2</th>\n",
       "      <td>1.500000e+06</td>\n",
       "      <td>-999.000000</td>\n",
       "      <td>5.500000e+06</td>\n",
       "      <td>-999.0</td>\n",
       "      <td>27</td>\n",
       "      <td>0</td>\n",
       "      <td>269.000000</td>\n",
       "      <td>761.542396</td>\n",
       "      <td>87.000000</td>\n",
       "      <td>269.000000</td>\n",
       "      <td>...</td>\n",
       "      <td>62.000000</td>\n",
       "      <td>32.000000</td>\n",
       "      <td>0.0</td>\n",
       "      <td>0.000000</td>\n",
       "      <td>71.000000</td>\n",
       "      <td>0</td>\n",
       "      <td>1</td>\n",
       "      <td>6.000000</td>\n",
       "      <td>1.0</td>\n",
       "      <td>1.0</td>\n",
       "    </tr>\n",
       "    <tr>\n",
       "      <th>3</th>\n",
       "      <td>9.000000e+05</td>\n",
       "      <td>800000.000000</td>\n",
       "      <td>3.850000e+06</td>\n",
       "      <td>-999.0</td>\n",
       "      <td>36</td>\n",
       "      <td>0</td>\n",
       "      <td>252.000000</td>\n",
       "      <td>0.564729</td>\n",
       "      <td>1.000000</td>\n",
       "      <td>252.000000</td>\n",
       "      <td>...</td>\n",
       "      <td>71.000000</td>\n",
       "      <td>6.000000</td>\n",
       "      <td>0.0</td>\n",
       "      <td>1.000000</td>\n",
       "      <td>66.000000</td>\n",
       "      <td>0</td>\n",
       "      <td>1</td>\n",
       "      <td>2.000000</td>\n",
       "      <td>0.0</td>\n",
       "      <td>0.0</td>\n",
       "    </tr>\n",
       "    <tr>\n",
       "      <th>4</th>\n",
       "      <td>1.500000e+06</td>\n",
       "      <td>-999.000000</td>\n",
       "      <td>8.000000e+06</td>\n",
       "      <td>1500000.0</td>\n",
       "      <td>32</td>\n",
       "      <td>0</td>\n",
       "      <td>333.000000</td>\n",
       "      <td>0.266685</td>\n",
       "      <td>1.000000</td>\n",
       "      <td>333.000000</td>\n",
       "      <td>...</td>\n",
       "      <td>16.000000</td>\n",
       "      <td>5.000000</td>\n",
       "      <td>0.0</td>\n",
       "      <td>0.000000</td>\n",
       "      <td>22.000000</td>\n",
       "      <td>1</td>\n",
       "      <td>3</td>\n",
       "      <td>2.000000</td>\n",
       "      <td>5.0</td>\n",
       "      <td>5.0</td>\n",
       "    </tr>\n",
       "    <tr>\n",
       "      <th>...</th>\n",
       "      <td>...</td>\n",
       "      <td>...</td>\n",
       "      <td>...</td>\n",
       "      <td>...</td>\n",
       "      <td>...</td>\n",
       "      <td>...</td>\n",
       "      <td>...</td>\n",
       "      <td>...</td>\n",
       "      <td>...</td>\n",
       "      <td>...</td>\n",
       "      <td>...</td>\n",
       "      <td>...</td>\n",
       "      <td>...</td>\n",
       "      <td>...</td>\n",
       "      <td>...</td>\n",
       "      <td>...</td>\n",
       "      <td>...</td>\n",
       "      <td>...</td>\n",
       "      <td>...</td>\n",
       "      <td>...</td>\n",
       "      <td>...</td>\n",
       "    </tr>\n",
       "    <tr>\n",
       "      <th>451</th>\n",
       "      <td>1.893217e+06</td>\n",
       "      <td>-999.000000</td>\n",
       "      <td>4.069979e+06</td>\n",
       "      <td>-999.0</td>\n",
       "      <td>27</td>\n",
       "      <td>0</td>\n",
       "      <td>366.366020</td>\n",
       "      <td>30.953829</td>\n",
       "      <td>9.044317</td>\n",
       "      <td>366.366020</td>\n",
       "      <td>...</td>\n",
       "      <td>26.413696</td>\n",
       "      <td>17.572868</td>\n",
       "      <td>0.0</td>\n",
       "      <td>0.000000</td>\n",
       "      <td>88.650775</td>\n",
       "      <td>0</td>\n",
       "      <td>1</td>\n",
       "      <td>2.071189</td>\n",
       "      <td>0.0</td>\n",
       "      <td>0.0</td>\n",
       "    </tr>\n",
       "    <tr>\n",
       "      <th>452</th>\n",
       "      <td>8.405122e+05</td>\n",
       "      <td>340193.528198</td>\n",
       "      <td>4.962049e+06</td>\n",
       "      <td>-999.0</td>\n",
       "      <td>27</td>\n",
       "      <td>0</td>\n",
       "      <td>265.940636</td>\n",
       "      <td>133.770830</td>\n",
       "      <td>37.044246</td>\n",
       "      <td>265.940636</td>\n",
       "      <td>...</td>\n",
       "      <td>30.199075</td>\n",
       "      <td>46.051218</td>\n",
       "      <td>0.0</td>\n",
       "      <td>0.000000</td>\n",
       "      <td>79.792780</td>\n",
       "      <td>0</td>\n",
       "      <td>1</td>\n",
       "      <td>1.637951</td>\n",
       "      <td>0.0</td>\n",
       "      <td>0.0</td>\n",
       "    </tr>\n",
       "    <tr>\n",
       "      <th>453</th>\n",
       "      <td>3.844875e+06</td>\n",
       "      <td>-999.000000</td>\n",
       "      <td>6.844875e+06</td>\n",
       "      <td>-999.0</td>\n",
       "      <td>34</td>\n",
       "      <td>1</td>\n",
       "      <td>243.551247</td>\n",
       "      <td>0.673893</td>\n",
       "      <td>1.000000</td>\n",
       "      <td>243.551247</td>\n",
       "      <td>...</td>\n",
       "      <td>56.692519</td>\n",
       "      <td>13.343491</td>\n",
       "      <td>0.0</td>\n",
       "      <td>0.844875</td>\n",
       "      <td>83.329638</td>\n",
       "      <td>0</td>\n",
       "      <td>2</td>\n",
       "      <td>7.069252</td>\n",
       "      <td>0.0</td>\n",
       "      <td>0.0</td>\n",
       "    </tr>\n",
       "    <tr>\n",
       "      <th>454</th>\n",
       "      <td>1.976728e+06</td>\n",
       "      <td>10660.216532</td>\n",
       "      <td>4.525599e+06</td>\n",
       "      <td>-999.0</td>\n",
       "      <td>26</td>\n",
       "      <td>0</td>\n",
       "      <td>271.138938</td>\n",
       "      <td>0.238406</td>\n",
       "      <td>1.000000</td>\n",
       "      <td>271.138938</td>\n",
       "      <td>...</td>\n",
       "      <td>115.370271</td>\n",
       "      <td>13.163597</td>\n",
       "      <td>0.0</td>\n",
       "      <td>0.000000</td>\n",
       "      <td>90.976728</td>\n",
       "      <td>0</td>\n",
       "      <td>1</td>\n",
       "      <td>3.930184</td>\n",
       "      <td>0.0</td>\n",
       "      <td>0.0</td>\n",
       "    </tr>\n",
       "    <tr>\n",
       "      <th>455</th>\n",
       "      <td>9.072342e+05</td>\n",
       "      <td>407048.895309</td>\n",
       "      <td>5.228937e+06</td>\n",
       "      <td>-999.0</td>\n",
       "      <td>28</td>\n",
       "      <td>0</td>\n",
       "      <td>252.996557</td>\n",
       "      <td>77.908199</td>\n",
       "      <td>21.965061</td>\n",
       "      <td>252.996557</td>\n",
       "      <td>...</td>\n",
       "      <td>19.656990</td>\n",
       "      <td>52.723424</td>\n",
       "      <td>0.0</td>\n",
       "      <td>0.000000</td>\n",
       "      <td>84.062991</td>\n",
       "      <td>0</td>\n",
       "      <td>1</td>\n",
       "      <td>1.371063</td>\n",
       "      <td>0.0</td>\n",
       "      <td>0.0</td>\n",
       "    </tr>\n",
       "  </tbody>\n",
       "</table>\n",
       "<p>456 rows × 837 columns</p>\n",
       "</div>"
      ],
      "text/plain": [
       "        feature_1      feature_2     feature_3  feature_4  feature_5  \\\n",
       "0    1.000000e+06    -999.000000  2.100000e+07  3000000.0         28   \n",
       "1    1.500000e+06    -999.000000  4.000000e+06   500000.0         22   \n",
       "2    1.500000e+06    -999.000000  5.500000e+06     -999.0         27   \n",
       "3    9.000000e+05  800000.000000  3.850000e+06     -999.0         36   \n",
       "4    1.500000e+06    -999.000000  8.000000e+06  1500000.0         32   \n",
       "..            ...            ...           ...        ...        ...   \n",
       "451  1.893217e+06    -999.000000  4.069979e+06     -999.0         27   \n",
       "452  8.405122e+05  340193.528198  4.962049e+06     -999.0         27   \n",
       "453  3.844875e+06    -999.000000  6.844875e+06     -999.0         34   \n",
       "454  1.976728e+06   10660.216532  4.525599e+06     -999.0         26   \n",
       "455  9.072342e+05  407048.895309  5.228937e+06     -999.0         28   \n",
       "\n",
       "     feature_6   feature_8   feature_9  feature_10  feature_11  ...  \\\n",
       "0            0  263.000000   89.022731   94.000000  263.000000  ...   \n",
       "1            0  263.000000    0.719261    1.000000  263.000000  ...   \n",
       "2            0  269.000000  761.542396   87.000000  269.000000  ...   \n",
       "3            0  252.000000    0.564729    1.000000  252.000000  ...   \n",
       "4            0  333.000000    0.266685    1.000000  333.000000  ...   \n",
       "..         ...         ...         ...         ...         ...  ...   \n",
       "451          0  366.366020   30.953829    9.044317  366.366020  ...   \n",
       "452          0  265.940636  133.770830   37.044246  265.940636  ...   \n",
       "453          1  243.551247    0.673893    1.000000  243.551247  ...   \n",
       "454          0  271.138938    0.238406    1.000000  271.138938  ...   \n",
       "455          0  252.996557   77.908199   21.965061  252.996557  ...   \n",
       "\n",
       "     feature_1036  feature_1037  feature_1038  feature_1039  feature_1040  \\\n",
       "0       82.000000      4.000000           0.0      1.000000     86.000000   \n",
       "1       31.000000     13.000000           0.0      0.000000     22.000000   \n",
       "2       62.000000     32.000000           0.0      0.000000     71.000000   \n",
       "3       71.000000      6.000000           0.0      1.000000     66.000000   \n",
       "4       16.000000      5.000000           0.0      0.000000     22.000000   \n",
       "..            ...           ...           ...           ...           ...   \n",
       "451     26.413696     17.572868           0.0      0.000000     88.650775   \n",
       "452     30.199075     46.051218           0.0      0.000000     79.792780   \n",
       "453     56.692519     13.343491           0.0      0.844875     83.329638   \n",
       "454    115.370271     13.163597           0.0      0.000000     90.976728   \n",
       "455     19.656990     52.723424           0.0      0.000000     84.062991   \n",
       "\n",
       "     feature_1041  feature_1042  feature_1043  feature_1044  feature_1045  \n",
       "0               1             2      4.000000           4.0           4.0  \n",
       "1               0             1      4.000000           0.0           0.0  \n",
       "2               0             1      6.000000           1.0           1.0  \n",
       "3               0             1      2.000000           0.0           0.0  \n",
       "4               1             3      2.000000           5.0           5.0  \n",
       "..            ...           ...           ...           ...           ...  \n",
       "451             0             1      2.071189           0.0           0.0  \n",
       "452             0             1      1.637951           0.0           0.0  \n",
       "453             0             2      7.069252           0.0           0.0  \n",
       "454             0             1      3.930184           0.0           0.0  \n",
       "455             0             1      1.371063           0.0           0.0  \n",
       "\n",
       "[456 rows x 837 columns]"
      ]
     },
     "execution_count": 16,
     "metadata": {},
     "output_type": "execute_result"
    }
   ],
   "source": [
    "X_train_sm.drop(constant_columns,axis=1)"
   ]
  },
  {
   "cell_type": "markdown",
   "metadata": {},
   "source": [
    "# MODELING"
   ]
  },
  {
   "cell_type": "code",
   "execution_count": 17,
   "metadata": {},
   "outputs": [],
   "source": [
    "from sklearn.neighbors import KNeighborsClassifier\n",
    "from sklearn.linear_model import LogisticRegression\n",
    "from sklearn.tree import DecisionTreeClassifier\n",
    "from sklearn.ensemble import RandomForestClassifier\n",
    "from xgboost import XGBClassifier"
   ]
  },
  {
   "cell_type": "markdown",
   "metadata": {},
   "source": [
    "## KNN Classifier"
   ]
  },
  {
   "cell_type": "code",
   "execution_count": 18,
   "metadata": {},
   "outputs": [
    {
     "name": "stdout",
     "output_type": "stream",
     "text": [
      "              precision    recall  f1-score   support\n",
      "\n",
      "           0       1.00      0.55      0.71        58\n",
      "           1       0.07      1.00      0.13         2\n",
      "\n",
      "    accuracy                           0.57        60\n",
      "   macro avg       0.54      0.78      0.42        60\n",
      "weighted avg       0.97      0.57      0.69        60\n",
      "\n",
      "\n",
      "\n",
      "acc score:  0.5666666666666667\n",
      "recall score:  1.0\n",
      "precision score:  0.07142857142857142\n",
      "f1 score:  0.13333333333333333\n",
      "\n",
      "\n",
      "train accuracy KNN base:  0.8618421052631579\n",
      "test accuracy KNN base:  1.0\n",
      "\n",
      "\n",
      "       Pred 1  Pred 0\n",
      "Akt 1       2       0\n",
      "Akt 0      26      32\n"
     ]
    },
    {
     "data": {
      "image/png": "[encoded data removed]",
      "text/plain": [
       "<Figure size 432x288 with 2 Axes>"
      ]
     },
     "metadata": {
      "needs_background": "light"
     },
     "output_type": "display_data"
    }
   ],
   "source": [
    "KNN = KNeighborsClassifier()\n",
    "\n",
    "KNN.fit(X_train_sm, y_train_sm)\n",
    "\n",
    "KNN_predict = KNN.predict(X_test)\n",
    "\n",
    "print(classification_report(y_test, KNN_predict))\n",
    "\n",
    "acc_base_KNN = accuracy_score(y_test, KNN_predict)\n",
    "recall_base_KNN = recall_score(y_test, KNN_predict)\n",
    "precision_base_KNN = precision_score(y_test, KNN_predict)\n",
    "f1_base_KNN = f1_score(y_test, KNN_predict)\n",
    "\n",
    "\n",
    "print('\\n\\nacc score: ', acc_base_KNN)\n",
    "print('recall score: ', recall_base_KNN)\n",
    "print('precision score: ', precision_base_KNN)\n",
    "print('f1 score: ', f1_base_KNN)\n",
    "\n",
    "print('\\n\\ntrain accuracy KNN base: ', KNN.score(X_train_sm, y_train_sm))\n",
    "print('test accuracy KNN base: ', KNN.score(X_test, KNN_predict))\n",
    "print()\n",
    "print()\n",
    "\n",
    "KNN_CM = confusion_matrix(y_test, KNN_predict, labels=[1 , 0])\n",
    "print(pd.DataFrame(data=KNN_CM, index=[\"Akt 1\" ,\"Akt 0\"], columns=[\"Pred 1\", \"Pred 0\"]))\n",
    "\n",
    "KNN_DF = pd.DataFrame(data=KNN_CM, index=[\"Akt 1\" ,\"Akt 0\"], columns=[\"Pred 1\", \"Pred 0\"])\n",
    "sns.heatmap(KNN_DF, annot=True)\n",
    "plt.show()"
   ]
  },
  {
   "cell_type": "markdown",
   "metadata": {},
   "source": [
    "## Logistic Regression "
   ]
  },
  {
   "cell_type": "code",
   "execution_count": 19,
   "metadata": {},
   "outputs": [
    {
     "name": "stdout",
     "output_type": "stream",
     "text": [
      "              precision    recall  f1-score   support\n",
      "\n",
      "           0       0.96      0.86      0.91        58\n",
      "           1       0.00      0.00      0.00         2\n",
      "\n",
      "    accuracy                           0.83        60\n",
      "   macro avg       0.48      0.43      0.45        60\n",
      "weighted avg       0.93      0.83      0.88        60\n",
      "\n",
      "\n",
      "\n",
      "acc score:  0.8333333333333334\n",
      "recall score:  0.0\n",
      "precision score:  0.0\n",
      "f1 score:  0.0\n",
      "\n",
      "\n",
      "train accuracy LogReg base:  0.8179824561403509\n",
      "test accuracy LogReg base:  1.0\n",
      "\n",
      "\n",
      "       Pred 1  Pred 0\n",
      "Akt 1       0       2\n",
      "Akt 0       8      50\n"
     ]
    },
    {
     "data": {
      "image/png": "[encoded data removed]",
      "text/plain": [
       "<Figure size 432x288 with 2 Axes>"
      ]
     },
     "metadata": {
      "needs_background": "light"
     },
     "output_type": "display_data"
    }
   ],
   "source": [
    "LogReg = LogisticRegression()\n",
    "\n",
    "LogReg.fit(X_train_sm, y_train_sm)\n",
    "\n",
    "LogReg_predict = LogReg.predict(X_test)\n",
    "\n",
    "print(classification_report(y_test, LogReg_predict))\n",
    "\n",
    "acc_base_LogReg = accuracy_score(y_test, LogReg_predict)\n",
    "recall_base_LogReg = recall_score(y_test, LogReg_predict)\n",
    "precision_base_LogReg= precision_score(y_test, LogReg_predict)\n",
    "f1_base_LogReg = f1_score(y_test, LogReg_predict)\n",
    "\n",
    "\n",
    "print('\\n\\nacc score: ', acc_base_LogReg)\n",
    "print('recall score: ', recall_base_LogReg)\n",
    "print('precision score: ', precision_base_LogReg)\n",
    "print('f1 score: ', f1_base_LogReg)\n",
    "\n",
    "print('\\n\\ntrain accuracy LogReg base: ', LogReg.score(X_train_sm, y_train_sm))\n",
    "print('test accuracy LogReg base: ', LogReg.score(X_test, LogReg_predict))\n",
    "print()\n",
    "print()\n",
    "\n",
    "LogReg_CM = confusion_matrix(y_test, LogReg_predict, labels=[1 , 0])\n",
    "print(pd.DataFrame(data=LogReg_CM, index=[\"Akt 1\" ,\"Akt 0\"], columns=[\"Pred 1\", \"Pred 0\"]))\n",
    "\n",
    "LogReg_DF = pd.DataFrame(data=LogReg_CM, index=[\"Akt 1\" ,\"Akt 0\"], columns=[\"Pred 1\", \"Pred 0\"])\n",
    "sns.heatmap(LogReg_DF, annot=True)\n",
    "plt.show()"
   ]
  },
  {
   "cell_type": "markdown",
   "metadata": {},
   "source": [
    "## Decision Tree Classifier"
   ]
  },
  {
   "cell_type": "code",
   "execution_count": 20,
   "metadata": {},
   "outputs": [
    {
     "name": "stdout",
     "output_type": "stream",
     "text": [
      "              precision    recall  f1-score   support\n",
      "\n",
      "           0       0.98      0.86      0.92        58\n",
      "           1       0.11      0.50      0.18         2\n",
      "\n",
      "    accuracy                           0.85        60\n",
      "   macro avg       0.55      0.68      0.55        60\n",
      "weighted avg       0.95      0.85      0.89        60\n",
      "\n",
      "\n",
      "\n",
      "acc score:  0.85\n",
      "recall score:  0.5\n",
      "precision score:  0.1111111111111111\n",
      "f1 score:  0.1818181818181818\n",
      "\n",
      "\n",
      "train accuracy DT base:  1.0\n",
      "test accuracy DT base:  1.0\n",
      "\n",
      "\n",
      "       Pred 1  Pred 0\n",
      "Akt 1       1       1\n",
      "Akt 0       8      50\n"
     ]
    },
    {
     "data": {
      "image/png": "[encoded data removed]",
      "text/plain": [
       "<Figure size 432x288 with 2 Axes>"
      ]
     },
     "metadata": {
      "needs_background": "light"
     },
     "output_type": "display_data"
    }
   ],
   "source": [
    "DT = DecisionTreeClassifier()\n",
    "\n",
    "DT.fit(X_train_sm, y_train_sm)\n",
    "\n",
    "DT_predict = DT.predict(X_test)\n",
    "\n",
    "print(classification_report(y_test, DT_predict))\n",
    "\n",
    "acc_base_DT = accuracy_score(y_test, DT_predict)\n",
    "recall_base_DT = recall_score(y_test, DT_predict)\n",
    "precision_base_DT= precision_score(y_test, DT_predict)\n",
    "f1_base_DT = f1_score(y_test, DT_predict)\n",
    "\n",
    "\n",
    "print('\\n\\nacc score: ', acc_base_DT)\n",
    "print('recall score: ', recall_base_DT)\n",
    "print('precision score: ', precision_base_DT)\n",
    "print('f1 score: ', f1_base_DT)\n",
    "\n",
    "print('\\n\\ntrain accuracy DT base: ', DT.score(X_train_sm, y_train_sm))\n",
    "print('test accuracy DT base: ', DT.score(X_test, DT_predict))\n",
    "print()\n",
    "print()\n",
    "\n",
    "DT_CM = confusion_matrix(y_test, DT_predict, labels=[1 , 0])\n",
    "print(pd.DataFrame(data=DT_CM, index=[\"Akt 1\" ,\"Akt 0\"], columns=[\"Pred 1\", \"Pred 0\"]))\n",
    "\n",
    "DT_DF = pd.DataFrame(data=DT_CM, index=[\"Akt 1\" ,\"Akt 0\"], columns=[\"Pred 1\", \"Pred 0\"])\n",
    "sns.heatmap(DT_DF, annot=True)\n",
    "plt.show()"
   ]
  },
  {
   "cell_type": "markdown",
   "metadata": {},
   "source": [
    "## Random Forest Classifier"
   ]
  },
  {
   "cell_type": "code",
   "execution_count": 21,
   "metadata": {},
   "outputs": [
    {
     "name": "stdout",
     "output_type": "stream",
     "text": [
      "              precision    recall  f1-score   support\n",
      "\n",
      "           0       0.97      1.00      0.98        58\n",
      "           1       0.00      0.00      0.00         2\n",
      "\n",
      "    accuracy                           0.97        60\n",
      "   macro avg       0.48      0.50      0.49        60\n",
      "weighted avg       0.93      0.97      0.95        60\n",
      "\n",
      "\n",
      "\n",
      "acc score:  0.9666666666666667\n",
      "recall score:  0.0\n",
      "precision score:  0.0\n",
      "f1 score:  0.0\n",
      "\n",
      "\n",
      "train accuracy RF base:  1.0\n",
      "test accuracy RF base:  1.0\n",
      "\n",
      "\n",
      "       Pred 1  Pred 0\n",
      "Akt 1       0       2\n",
      "Akt 0       0      58\n"
     ]
    },
    {
     "data": {
      "image/png": "[encoded data removed]",
      "text/plain": [
       "<Figure size 432x288 with 2 Axes>"
      ]
     },
     "metadata": {
      "needs_background": "light"
     },
     "output_type": "display_data"
    }
   ],
   "source": [
    "RF = RandomForestClassifier()\n",
    "\n",
    "RF.fit(X_train_sm, y_train_sm)\n",
    "\n",
    "RF_predict = RF.predict(X_test)\n",
    "\n",
    "print(classification_report(y_test, RF_predict))\n",
    "\n",
    "acc_base_RF = accuracy_score(y_test, RF_predict)\n",
    "recall_base_RF = recall_score(y_test, RF_predict)\n",
    "precision_base_RF = precision_score(y_test, RF_predict)\n",
    "f1_base_RF = f1_score(y_test, RF_predict)\n",
    "\n",
    "\n",
    "print('\\n\\nacc score: ', acc_base_RF)\n",
    "print('recall score: ', recall_base_RF)\n",
    "print('precision score: ', precision_base_RF)\n",
    "print('f1 score: ', f1_base_RF)\n",
    "\n",
    "print('\\n\\ntrain accuracy RF base: ', RF.score(X_train_sm, y_train_sm))\n",
    "print('test accuracy RF base: ', RF.score(X_test, RF_predict))\n",
    "print()\n",
    "print()\n",
    "\n",
    "RF_CM = confusion_matrix(y_test, RF_predict, labels=[1 , 0])\n",
    "print(pd.DataFrame(data=RF_CM, index=[\"Akt 1\" ,\"Akt 0\"], columns=[\"Pred 1\", \"Pred 0\"]))\n",
    "\n",
    "RF_DF = pd.DataFrame(data=RF_CM, index=[\"Akt 1\" ,\"Akt 0\"], columns=[\"Pred 1\", \"Pred 0\"])\n",
    "sns.heatmap(RF_DF, annot=True)\n",
    "plt.show()"
   ]
  },
  {
   "cell_type": "markdown",
   "metadata": {},
   "source": [
    "## XG Boost Classifier"
   ]
  },
  {
   "cell_type": "code",
   "execution_count": 22,
   "metadata": {},
   "outputs": [
    {
     "name": "stdout",
     "output_type": "stream",
     "text": [
      "              precision    recall  f1-score   support\n",
      "\n",
      "           0       0.98      0.97      0.97        58\n",
      "           1       0.33      0.50      0.40         2\n",
      "\n",
      "    accuracy                           0.95        60\n",
      "   macro avg       0.66      0.73      0.69        60\n",
      "weighted avg       0.96      0.95      0.95        60\n",
      "\n",
      "\n",
      "\n",
      "acc score:  0.95\n",
      "recall score:  0.5\n",
      "precision score:  0.3333333333333333\n",
      "f1 score:  0.4\n",
      "\n",
      "\n",
      "train accuracy XGB base:  1.0\n",
      "test accuracy XGB base:  1.0\n",
      "\n",
      "\n",
      "       Pred 1  Pred 0\n",
      "Akt 1       1       1\n",
      "Akt 0       2      56\n"
     ]
    },
    {
     "data": {
      "image/png": "[encoded data removed]",
      "text/plain": [
       "<Figure size 432x288 with 2 Axes>"
      ]
     },
     "metadata": {
      "needs_background": "light"
     },
     "output_type": "display_data"
    }
   ],
   "source": [
    "XGB = XGBClassifier()\n",
    "\n",
    "XGB.fit(X_train_sm, y_train_sm)\n",
    "\n",
    "XGB_predict = XGB.predict(X_test)\n",
    "\n",
    "print(classification_report(y_test, XGB_predict))\n",
    "\n",
    "acc_base_XGB = accuracy_score(y_test, XGB_predict)\n",
    "recall_base_XGB = recall_score(y_test, XGB_predict)\n",
    "precision_base_XGB= precision_score(y_test, XGB_predict)\n",
    "f1_base_XGB = f1_score(y_test, XGB_predict)\n",
    "\n",
    "\n",
    "print('\\n\\nacc score: ', acc_base_XGB)\n",
    "print('recall score: ', recall_base_XGB)\n",
    "print('precision score: ', precision_base_XGB)\n",
    "print('f1 score: ', f1_base_XGB)\n",
    "\n",
    "print('\\n\\ntrain accuracy XGB base: ', XGB.score(X_train_sm, y_train_sm))\n",
    "print('test accuracy XGB base: ', XGB.score(X_test, XGB_predict))\n",
    "print()\n",
    "print()\n",
    "\n",
    "XGB_CM = confusion_matrix(y_test, XGB_predict, labels=[1 , 0])\n",
    "print(pd.DataFrame(data=XGB_CM, index=[\"Akt 1\" ,\"Akt 0\"], columns=[\"Pred 1\", \"Pred 0\"]))\n",
    "\n",
    "XGB_DF = pd.DataFrame(data=XGB_CM, index=[\"Akt 1\" ,\"Akt 0\"], columns=[\"Pred 1\", \"Pred 0\"])\n",
    "sns.heatmap(XGB_DF, annot=True)\n",
    "plt.show()"
   ]
  },
  {
   "cell_type": "code",
   "execution_count": 26,
   "metadata": {},
   "outputs": [
    {
     "name": "stdout",
     "output_type": "stream",
     "text": [
      "Model Score Comparison:\n",
      "\n",
      "                      Accuracy  Precision  Recall  F1 Score  \\\n",
      "K Nearest Neighbors  0.566667   0.071429     1.0  0.133333   \n",
      "Logistic Regression  0.833333   0.000000     0.0  0.000000   \n",
      "Decission Tree       0.850000   0.111111     0.5  0.181818   \n",
      "Random Forest        0.966667   0.000000     0.0  0.000000   \n",
      "XG Boost             0.950000   0.333333     0.5  0.400000   \n",
      "\n",
      "                     Train Model Accuracy  \n",
      "K Nearest Neighbors              0.801688  \n",
      "Logistic Regression              0.810127  \n",
      "Decission Tree                   1.000000  \n",
      "Random Forest                    1.000000  \n",
      "XG Boost                         1.000000  \n"
     ]
    }
   ],
   "source": [
    "data = {\n",
    "    \"K Nearest Neighbors\" : [acc_base_KNN, precision_base_KNN, recall_base_KNN, f1_base_KNN,(KNN.score(X_train, y_train))],\n",
    "    \"Logistic Regression\" : [acc_base_LogReg, precision_base_LogReg, recall_base_LogReg, f1_base_LogReg,LogReg.score(X_train, y_train)],\n",
    "    \"Decission Tree\" : [acc_base_DT, precision_base_DT, recall_base_DT, f1_base_DT,DT.score(X_train, y_train)],\n",
    "    \"Random Forest\"  : [acc_base_RF, precision_base_RF, recall_base_RF, f1_base_RF,RF.score(X_train, y_train)],\n",
    "    \"XG Boost\" : [acc_base_XGB, precision_base_XGB, recall_base_XGB, f1_base_XGB,XGB.score(X_train, y_train)]\n",
    "}\n",
    "\n",
    "print('Model Score Comparison:\\n\\n',pd.DataFrame(data=data, index=['Accuracy', 'Precision', 'Recall', 'F1 Score','Train Model Accuracy']).T)"
   ]
  },
  {
   "cell_type": "markdown",
   "metadata": {},
   "source": [
    "# Confusion Matrix for Classification Model\n",
    "\n",
    "- Accuracy is literally how good our model is at predicting the correct category (classes or labels). If our dataset is pretty balanced and every category has equal importance, this should be our go-to metric to measure our model’s performance.\n",
    "\n",
    "\n",
    "- Precision is the ratio of what our model predicted correctly to what our model predicted. For each category/class, there is one precision value. We focus on precision when we need our predictions to be correct, i.e. ideally we want to make sure our model is right when it predicts a label. \n",
    "For example, if we have a Loan underwriting model that predicts whether to approve or reject a loan request, our priority is being right for all those cases where our model predicted to approve the loan as we will lose money when it approved a loan ideally it should reject. We don’t lose money when it tells us to reject the loan as we still have that money with us.\n",
    "\n",
    "\n",
    "- Recall is the ratio of what our model predicted correctly to what the actual labels are. Similar to precision, for each category/class, there is one recall value. We focus on recall when we have a FOMO(Fear Of Missing Out ) situation. Ideally, you want the model to capture all examples of a particular class. For example, airport security scanning machines have to make sure the detectors don’t miss any actual bombs/dangerous items, and hence we are okay with sometimes stopping the wrong bag/traveler.\n",
    "\n",
    "\n",
    "- F1 score is used, if we want our model to have a balanced precision and recall score, we average them to get a single metric. Here comes, F1 score, the harmonic mean of recall & precision."
   ]
  },
  {
   "cell_type": "markdown",
   "metadata": {},
   "source": [
    "# Summary\n",
    "\n",
    "\n",
    "- There is little value of either True Positive or False Positive on each models.\n",
    "\n",
    "\n",
    "- Precision Score from classification report is being used, in order to minimize False Positive, which we don't predict bad customer as good customer, because the risk of losing money is higher.\n",
    "\n",
    "\n",
    "- Since XGB Model has the highest precision score, in this case XG Boost model will be selected\n",
    "\n",
    "\n",
    "- To increase the score of the mode, dataset that has high variance, so it will be good if the selected features in the dataset which has variance more than a fix threshold."
   ]
  },
  {
   "cell_type": "markdown",
   "metadata": {},
   "source": [
    "# Export Model"
   ]
  },
  {
   "cell_type": "code",
   "execution_count": 24,
   "metadata": {},
   "outputs": [],
   "source": [
    "import joblib"
   ]
  },
  {
   "cell_type": "code",
   "execution_count": 25,
   "metadata": {},
   "outputs": [
    {
     "data": {
      "text/plain": [
       "['Credit Scoring XGB Model']"
      ]
     },
     "execution_count": 25,
     "metadata": {},
     "output_type": "execute_result"
    }
   ],
   "source": [
    "joblib.dump(XGB,'Credit Scoring XGB Model')"
   ]
  }
 ],
 "metadata": {
  "kernelspec": {
   "display_name": "Python 3",
   "language": "python",
   "name": "python3"
  },
  "language_info": {
   "codemirror_mode": {
    "name": "ipython",
    "version": 3
   },
   "file_extension": ".py",
   "mimetype": "text/x-python",
   "name": "python",
   "nbconvert_exporter": "python",
   "pygments_lexer": "ipython3",
   "version": "3.8.5"
  }
 },
 "nbformat": 4,
 "nbformat_minor": 4
}
